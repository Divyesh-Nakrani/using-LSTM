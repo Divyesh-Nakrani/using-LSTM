{
  "nbformat": 4,
  "nbformat_minor": 0,
  "metadata": {
    "colab": {
      "provenance": [],
      "authorship_tag": "ABX9TyPDsShb1GIu0t9ktKaysX1A",
      "include_colab_link": true
    },
    "kernelspec": {
      "name": "python3",
      "display_name": "Python 3"
    },
    "language_info": {
      "name": "python"
    },
    "accelerator": "GPU",
    "gpuClass": "standard"
  },
  "cells": [
    {
      "cell_type": "markdown",
      "metadata": {
        "id": "view-in-github",
        "colab_type": "text"
      },
      "source": [
        "<a href=\"https://colab.research.google.com/github/dn-bit/using-LSTM/blob/main/Sentiment_analysis_using_LSTM.ipynb\" target=\"_parent\"><img src=\"https://colab.research.google.com/assets/colab-badge.svg\" alt=\"Open In Colab\"/></a>"
      ]
    },
    {
      "cell_type": "code",
      "execution_count": 16,
      "metadata": {
        "id": "nwt5Z7VPhkRa"
      },
      "outputs": [],
      "source": [
        "import pandas as pd\n",
        "\n"
      ]
    },
    {
      "cell_type": "code",
      "source": [
        "df=pd.read_csv(\"IMDB_Dataset.csv\")"
      ],
      "metadata": {
        "id": "d_ZLZrSQh4xq"
      },
      "execution_count": 17,
      "outputs": []
    },
    {
      "cell_type": "code",
      "source": [
        "df.head()"
      ],
      "metadata": {
        "colab": {
          "base_uri": "https://localhost:8080/",
          "height": 206
        },
        "id": "i04hhm2hlK38",
        "outputId": "ffbc72a4-73da-46da-c8f9-4c9b09702758"
      },
      "execution_count": 18,
      "outputs": [
        {
          "output_type": "execute_result",
          "data": {
            "text/plain": [
              "                                              review sentiment\n",
              "0  One of the other reviewers has mentioned that ...  positive\n",
              "1  A wonderful little production. <br /><br />The...  positive\n",
              "2  I thought this was a wonderful way to spend ti...  positive\n",
              "3  Basically there's a family where a little boy ...  negative\n",
              "4  Petter Mattei's \"Love in the Time of Money\" is...  positive"
            ],
            "text/html": [
              "\n",
              "  <div id=\"df-4c15bb98-0dcd-4bf6-8e93-a0f166b0eaa6\">\n",
              "    <div class=\"colab-df-container\">\n",
              "      <div>\n",
              "<style scoped>\n",
              "    .dataframe tbody tr th:only-of-type {\n",
              "        vertical-align: middle;\n",
              "    }\n",
              "\n",
              "    .dataframe tbody tr th {\n",
              "        vertical-align: top;\n",
              "    }\n",
              "\n",
              "    .dataframe thead th {\n",
              "        text-align: right;\n",
              "    }\n",
              "</style>\n",
              "<table border=\"1\" class=\"dataframe\">\n",
              "  <thead>\n",
              "    <tr style=\"text-align: right;\">\n",
              "      <th></th>\n",
              "      <th>review</th>\n",
              "      <th>sentiment</th>\n",
              "    </tr>\n",
              "  </thead>\n",
              "  <tbody>\n",
              "    <tr>\n",
              "      <th>0</th>\n",
              "      <td>One of the other reviewers has mentioned that ...</td>\n",
              "      <td>positive</td>\n",
              "    </tr>\n",
              "    <tr>\n",
              "      <th>1</th>\n",
              "      <td>A wonderful little production. &lt;br /&gt;&lt;br /&gt;The...</td>\n",
              "      <td>positive</td>\n",
              "    </tr>\n",
              "    <tr>\n",
              "      <th>2</th>\n",
              "      <td>I thought this was a wonderful way to spend ti...</td>\n",
              "      <td>positive</td>\n",
              "    </tr>\n",
              "    <tr>\n",
              "      <th>3</th>\n",
              "      <td>Basically there's a family where a little boy ...</td>\n",
              "      <td>negative</td>\n",
              "    </tr>\n",
              "    <tr>\n",
              "      <th>4</th>\n",
              "      <td>Petter Mattei's \"Love in the Time of Money\" is...</td>\n",
              "      <td>positive</td>\n",
              "    </tr>\n",
              "  </tbody>\n",
              "</table>\n",
              "</div>\n",
              "      <button class=\"colab-df-convert\" onclick=\"convertToInteractive('df-4c15bb98-0dcd-4bf6-8e93-a0f166b0eaa6')\"\n",
              "              title=\"Convert this dataframe to an interactive table.\"\n",
              "              style=\"display:none;\">\n",
              "        \n",
              "  <svg xmlns=\"http://www.w3.org/2000/svg\" height=\"24px\"viewBox=\"0 0 24 24\"\n",
              "       width=\"24px\">\n",
              "    <path d=\"M0 0h24v24H0V0z\" fill=\"none\"/>\n",
              "    <path d=\"M18.56 5.44l.94 2.06.94-2.06 2.06-.94-2.06-.94-.94-2.06-.94 2.06-2.06.94zm-11 1L8.5 8.5l.94-2.06 2.06-.94-2.06-.94L8.5 2.5l-.94 2.06-2.06.94zm10 10l.94 2.06.94-2.06 2.06-.94-2.06-.94-.94-2.06-.94 2.06-2.06.94z\"/><path d=\"M17.41 7.96l-1.37-1.37c-.4-.4-.92-.59-1.43-.59-.52 0-1.04.2-1.43.59L10.3 9.45l-7.72 7.72c-.78.78-.78 2.05 0 2.83L4 21.41c.39.39.9.59 1.41.59.51 0 1.02-.2 1.41-.59l7.78-7.78 2.81-2.81c.8-.78.8-2.07 0-2.86zM5.41 20L4 18.59l7.72-7.72 1.47 1.35L5.41 20z\"/>\n",
              "  </svg>\n",
              "      </button>\n",
              "      \n",
              "  <style>\n",
              "    .colab-df-container {\n",
              "      display:flex;\n",
              "      flex-wrap:wrap;\n",
              "      gap: 12px;\n",
              "    }\n",
              "\n",
              "    .colab-df-convert {\n",
              "      background-color: #E8F0FE;\n",
              "      border: none;\n",
              "      border-radius: 50%;\n",
              "      cursor: pointer;\n",
              "      display: none;\n",
              "      fill: #1967D2;\n",
              "      height: 32px;\n",
              "      padding: 0 0 0 0;\n",
              "      width: 32px;\n",
              "    }\n",
              "\n",
              "    .colab-df-convert:hover {\n",
              "      background-color: #E2EBFA;\n",
              "      box-shadow: 0px 1px 2px rgba(60, 64, 67, 0.3), 0px 1px 3px 1px rgba(60, 64, 67, 0.15);\n",
              "      fill: #174EA6;\n",
              "    }\n",
              "\n",
              "    [theme=dark] .colab-df-convert {\n",
              "      background-color: #3B4455;\n",
              "      fill: #D2E3FC;\n",
              "    }\n",
              "\n",
              "    [theme=dark] .colab-df-convert:hover {\n",
              "      background-color: #434B5C;\n",
              "      box-shadow: 0px 1px 3px 1px rgba(0, 0, 0, 0.15);\n",
              "      filter: drop-shadow(0px 1px 2px rgba(0, 0, 0, 0.3));\n",
              "      fill: #FFFFFF;\n",
              "    }\n",
              "  </style>\n",
              "\n",
              "      <script>\n",
              "        const buttonEl =\n",
              "          document.querySelector('#df-4c15bb98-0dcd-4bf6-8e93-a0f166b0eaa6 button.colab-df-convert');\n",
              "        buttonEl.style.display =\n",
              "          google.colab.kernel.accessAllowed ? 'block' : 'none';\n",
              "\n",
              "        async function convertToInteractive(key) {\n",
              "          const element = document.querySelector('#df-4c15bb98-0dcd-4bf6-8e93-a0f166b0eaa6');\n",
              "          const dataTable =\n",
              "            await google.colab.kernel.invokeFunction('convertToInteractive',\n",
              "                                                     [key], {});\n",
              "          if (!dataTable) return;\n",
              "\n",
              "          const docLinkHtml = 'Like what you see? Visit the ' +\n",
              "            '<a target=\"_blank\" href=https://colab.research.google.com/notebooks/data_table.ipynb>data table notebook</a>'\n",
              "            + ' to learn more about interactive tables.';\n",
              "          element.innerHTML = '';\n",
              "          dataTable['output_type'] = 'display_data';\n",
              "          await google.colab.output.renderOutput(dataTable, element);\n",
              "          const docLink = document.createElement('div');\n",
              "          docLink.innerHTML = docLinkHtml;\n",
              "          element.appendChild(docLink);\n",
              "        }\n",
              "      </script>\n",
              "    </div>\n",
              "  </div>\n",
              "  "
            ]
          },
          "metadata": {},
          "execution_count": 18
        }
      ]
    },
    {
      "cell_type": "code",
      "source": [
        "\n",
        "df.head(1)"
      ],
      "metadata": {
        "colab": {
          "base_uri": "https://localhost:8080/",
          "height": 80
        },
        "id": "5vU4ETq_zxFV",
        "outputId": "3364080e-8ae0-4fb8-94c9-214e8d9539e4"
      },
      "execution_count": 68,
      "outputs": [
        {
          "output_type": "execute_result",
          "data": {
            "text/plain": [
              "                                              review sentiment\n",
              "0  One of the other reviewers has mentioned that ...  positive"
            ],
            "text/html": [
              "\n",
              "  <div id=\"df-28e8d39f-a738-4661-a488-c61cf255600e\">\n",
              "    <div class=\"colab-df-container\">\n",
              "      <div>\n",
              "<style scoped>\n",
              "    .dataframe tbody tr th:only-of-type {\n",
              "        vertical-align: middle;\n",
              "    }\n",
              "\n",
              "    .dataframe tbody tr th {\n",
              "        vertical-align: top;\n",
              "    }\n",
              "\n",
              "    .dataframe thead th {\n",
              "        text-align: right;\n",
              "    }\n",
              "</style>\n",
              "<table border=\"1\" class=\"dataframe\">\n",
              "  <thead>\n",
              "    <tr style=\"text-align: right;\">\n",
              "      <th></th>\n",
              "      <th>review</th>\n",
              "      <th>sentiment</th>\n",
              "    </tr>\n",
              "  </thead>\n",
              "  <tbody>\n",
              "    <tr>\n",
              "      <th>0</th>\n",
              "      <td>One of the other reviewers has mentioned that ...</td>\n",
              "      <td>positive</td>\n",
              "    </tr>\n",
              "  </tbody>\n",
              "</table>\n",
              "</div>\n",
              "      <button class=\"colab-df-convert\" onclick=\"convertToInteractive('df-28e8d39f-a738-4661-a488-c61cf255600e')\"\n",
              "              title=\"Convert this dataframe to an interactive table.\"\n",
              "              style=\"display:none;\">\n",
              "        \n",
              "  <svg xmlns=\"http://www.w3.org/2000/svg\" height=\"24px\"viewBox=\"0 0 24 24\"\n",
              "       width=\"24px\">\n",
              "    <path d=\"M0 0h24v24H0V0z\" fill=\"none\"/>\n",
              "    <path d=\"M18.56 5.44l.94 2.06.94-2.06 2.06-.94-2.06-.94-.94-2.06-.94 2.06-2.06.94zm-11 1L8.5 8.5l.94-2.06 2.06-.94-2.06-.94L8.5 2.5l-.94 2.06-2.06.94zm10 10l.94 2.06.94-2.06 2.06-.94-2.06-.94-.94-2.06-.94 2.06-2.06.94z\"/><path d=\"M17.41 7.96l-1.37-1.37c-.4-.4-.92-.59-1.43-.59-.52 0-1.04.2-1.43.59L10.3 9.45l-7.72 7.72c-.78.78-.78 2.05 0 2.83L4 21.41c.39.39.9.59 1.41.59.51 0 1.02-.2 1.41-.59l7.78-7.78 2.81-2.81c.8-.78.8-2.07 0-2.86zM5.41 20L4 18.59l7.72-7.72 1.47 1.35L5.41 20z\"/>\n",
              "  </svg>\n",
              "      </button>\n",
              "      \n",
              "  <style>\n",
              "    .colab-df-container {\n",
              "      display:flex;\n",
              "      flex-wrap:wrap;\n",
              "      gap: 12px;\n",
              "    }\n",
              "\n",
              "    .colab-df-convert {\n",
              "      background-color: #E8F0FE;\n",
              "      border: none;\n",
              "      border-radius: 50%;\n",
              "      cursor: pointer;\n",
              "      display: none;\n",
              "      fill: #1967D2;\n",
              "      height: 32px;\n",
              "      padding: 0 0 0 0;\n",
              "      width: 32px;\n",
              "    }\n",
              "\n",
              "    .colab-df-convert:hover {\n",
              "      background-color: #E2EBFA;\n",
              "      box-shadow: 0px 1px 2px rgba(60, 64, 67, 0.3), 0px 1px 3px 1px rgba(60, 64, 67, 0.15);\n",
              "      fill: #174EA6;\n",
              "    }\n",
              "\n",
              "    [theme=dark] .colab-df-convert {\n",
              "      background-color: #3B4455;\n",
              "      fill: #D2E3FC;\n",
              "    }\n",
              "\n",
              "    [theme=dark] .colab-df-convert:hover {\n",
              "      background-color: #434B5C;\n",
              "      box-shadow: 0px 1px 3px 1px rgba(0, 0, 0, 0.15);\n",
              "      filter: drop-shadow(0px 1px 2px rgba(0, 0, 0, 0.3));\n",
              "      fill: #FFFFFF;\n",
              "    }\n",
              "  </style>\n",
              "\n",
              "      <script>\n",
              "        const buttonEl =\n",
              "          document.querySelector('#df-28e8d39f-a738-4661-a488-c61cf255600e button.colab-df-convert');\n",
              "        buttonEl.style.display =\n",
              "          google.colab.kernel.accessAllowed ? 'block' : 'none';\n",
              "\n",
              "        async function convertToInteractive(key) {\n",
              "          const element = document.querySelector('#df-28e8d39f-a738-4661-a488-c61cf255600e');\n",
              "          const dataTable =\n",
              "            await google.colab.kernel.invokeFunction('convertToInteractive',\n",
              "                                                     [key], {});\n",
              "          if (!dataTable) return;\n",
              "\n",
              "          const docLinkHtml = 'Like what you see? Visit the ' +\n",
              "            '<a target=\"_blank\" href=https://colab.research.google.com/notebooks/data_table.ipynb>data table notebook</a>'\n",
              "            + ' to learn more about interactive tables.';\n",
              "          element.innerHTML = '';\n",
              "          dataTable['output_type'] = 'display_data';\n",
              "          await google.colab.output.renderOutput(dataTable, element);\n",
              "          const docLink = document.createElement('div');\n",
              "          docLink.innerHTML = docLinkHtml;\n",
              "          element.appendChild(docLink);\n",
              "        }\n",
              "      </script>\n",
              "    </div>\n",
              "  </div>\n",
              "  "
            ]
          },
          "metadata": {},
          "execution_count": 68
        }
      ]
    },
    {
      "cell_type": "code",
      "source": [
        "df.shape"
      ],
      "metadata": {
        "colab": {
          "base_uri": "https://localhost:8080/"
        },
        "id": "Ncj1m7N0h-TL",
        "outputId": "094944ac-93a7-48bf-cb19-8b15c3b4b825"
      },
      "execution_count": 19,
      "outputs": [
        {
          "output_type": "execute_result",
          "data": {
            "text/plain": [
              "(5526, 2)"
            ]
          },
          "metadata": {},
          "execution_count": 19
        }
      ]
    },
    {
      "cell_type": "code",
      "source": [
        "df.isnull().sum()"
      ],
      "metadata": {
        "colab": {
          "base_uri": "https://localhost:8080/"
        },
        "id": "4w2do0z4ieqS",
        "outputId": "ae1cd3e5-5a41-4fc3-8ad0-6dd00e62a6d5"
      },
      "execution_count": 20,
      "outputs": [
        {
          "output_type": "execute_result",
          "data": {
            "text/plain": [
              "review       0\n",
              "sentiment    0\n",
              "dtype: int64"
            ]
          },
          "metadata": {},
          "execution_count": 20
        }
      ]
    },
    {
      "cell_type": "markdown",
      "source": [
        "#### **Separate Dependent and Independent Feature**"
      ],
      "metadata": {
        "id": "3zExzwsjkU1d"
      }
    },
    {
      "cell_type": "code",
      "source": [
        "X=df.drop('sentiment',axis=1)\n",
        "y=pd.get_dummies(df['sentiment'],drop_first=True)\n",
        "y"
      ],
      "metadata": {
        "id": "eqt7MYbRktsU",
        "colab": {
          "base_uri": "https://localhost:8080/",
          "height": 423
        },
        "outputId": "549efb4d-679e-4f13-c5bd-c209051c1811"
      },
      "execution_count": 22,
      "outputs": [
        {
          "output_type": "execute_result",
          "data": {
            "text/plain": [
              "      positive\n",
              "0            1\n",
              "1            1\n",
              "2            1\n",
              "3            0\n",
              "4            1\n",
              "...        ...\n",
              "5521         0\n",
              "5522         1\n",
              "5523         0\n",
              "5524         1\n",
              "5525         1\n",
              "\n",
              "[5526 rows x 1 columns]"
            ],
            "text/html": [
              "\n",
              "  <div id=\"df-15e89cf2-4cbc-4ed8-b0bd-878c87792cec\">\n",
              "    <div class=\"colab-df-container\">\n",
              "      <div>\n",
              "<style scoped>\n",
              "    .dataframe tbody tr th:only-of-type {\n",
              "        vertical-align: middle;\n",
              "    }\n",
              "\n",
              "    .dataframe tbody tr th {\n",
              "        vertical-align: top;\n",
              "    }\n",
              "\n",
              "    .dataframe thead th {\n",
              "        text-align: right;\n",
              "    }\n",
              "</style>\n",
              "<table border=\"1\" class=\"dataframe\">\n",
              "  <thead>\n",
              "    <tr style=\"text-align: right;\">\n",
              "      <th></th>\n",
              "      <th>positive</th>\n",
              "    </tr>\n",
              "  </thead>\n",
              "  <tbody>\n",
              "    <tr>\n",
              "      <th>0</th>\n",
              "      <td>1</td>\n",
              "    </tr>\n",
              "    <tr>\n",
              "      <th>1</th>\n",
              "      <td>1</td>\n",
              "    </tr>\n",
              "    <tr>\n",
              "      <th>2</th>\n",
              "      <td>1</td>\n",
              "    </tr>\n",
              "    <tr>\n",
              "      <th>3</th>\n",
              "      <td>0</td>\n",
              "    </tr>\n",
              "    <tr>\n",
              "      <th>4</th>\n",
              "      <td>1</td>\n",
              "    </tr>\n",
              "    <tr>\n",
              "      <th>...</th>\n",
              "      <td>...</td>\n",
              "    </tr>\n",
              "    <tr>\n",
              "      <th>5521</th>\n",
              "      <td>0</td>\n",
              "    </tr>\n",
              "    <tr>\n",
              "      <th>5522</th>\n",
              "      <td>1</td>\n",
              "    </tr>\n",
              "    <tr>\n",
              "      <th>5523</th>\n",
              "      <td>0</td>\n",
              "    </tr>\n",
              "    <tr>\n",
              "      <th>5524</th>\n",
              "      <td>1</td>\n",
              "    </tr>\n",
              "    <tr>\n",
              "      <th>5525</th>\n",
              "      <td>1</td>\n",
              "    </tr>\n",
              "  </tbody>\n",
              "</table>\n",
              "<p>5526 rows × 1 columns</p>\n",
              "</div>\n",
              "      <button class=\"colab-df-convert\" onclick=\"convertToInteractive('df-15e89cf2-4cbc-4ed8-b0bd-878c87792cec')\"\n",
              "              title=\"Convert this dataframe to an interactive table.\"\n",
              "              style=\"display:none;\">\n",
              "        \n",
              "  <svg xmlns=\"http://www.w3.org/2000/svg\" height=\"24px\"viewBox=\"0 0 24 24\"\n",
              "       width=\"24px\">\n",
              "    <path d=\"M0 0h24v24H0V0z\" fill=\"none\"/>\n",
              "    <path d=\"M18.56 5.44l.94 2.06.94-2.06 2.06-.94-2.06-.94-.94-2.06-.94 2.06-2.06.94zm-11 1L8.5 8.5l.94-2.06 2.06-.94-2.06-.94L8.5 2.5l-.94 2.06-2.06.94zm10 10l.94 2.06.94-2.06 2.06-.94-2.06-.94-.94-2.06-.94 2.06-2.06.94z\"/><path d=\"M17.41 7.96l-1.37-1.37c-.4-.4-.92-.59-1.43-.59-.52 0-1.04.2-1.43.59L10.3 9.45l-7.72 7.72c-.78.78-.78 2.05 0 2.83L4 21.41c.39.39.9.59 1.41.59.51 0 1.02-.2 1.41-.59l7.78-7.78 2.81-2.81c.8-.78.8-2.07 0-2.86zM5.41 20L4 18.59l7.72-7.72 1.47 1.35L5.41 20z\"/>\n",
              "  </svg>\n",
              "      </button>\n",
              "      \n",
              "  <style>\n",
              "    .colab-df-container {\n",
              "      display:flex;\n",
              "      flex-wrap:wrap;\n",
              "      gap: 12px;\n",
              "    }\n",
              "\n",
              "    .colab-df-convert {\n",
              "      background-color: #E8F0FE;\n",
              "      border: none;\n",
              "      border-radius: 50%;\n",
              "      cursor: pointer;\n",
              "      display: none;\n",
              "      fill: #1967D2;\n",
              "      height: 32px;\n",
              "      padding: 0 0 0 0;\n",
              "      width: 32px;\n",
              "    }\n",
              "\n",
              "    .colab-df-convert:hover {\n",
              "      background-color: #E2EBFA;\n",
              "      box-shadow: 0px 1px 2px rgba(60, 64, 67, 0.3), 0px 1px 3px 1px rgba(60, 64, 67, 0.15);\n",
              "      fill: #174EA6;\n",
              "    }\n",
              "\n",
              "    [theme=dark] .colab-df-convert {\n",
              "      background-color: #3B4455;\n",
              "      fill: #D2E3FC;\n",
              "    }\n",
              "\n",
              "    [theme=dark] .colab-df-convert:hover {\n",
              "      background-color: #434B5C;\n",
              "      box-shadow: 0px 1px 3px 1px rgba(0, 0, 0, 0.15);\n",
              "      filter: drop-shadow(0px 1px 2px rgba(0, 0, 0, 0.3));\n",
              "      fill: #FFFFFF;\n",
              "    }\n",
              "  </style>\n",
              "\n",
              "      <script>\n",
              "        const buttonEl =\n",
              "          document.querySelector('#df-15e89cf2-4cbc-4ed8-b0bd-878c87792cec button.colab-df-convert');\n",
              "        buttonEl.style.display =\n",
              "          google.colab.kernel.accessAllowed ? 'block' : 'none';\n",
              "\n",
              "        async function convertToInteractive(key) {\n",
              "          const element = document.querySelector('#df-15e89cf2-4cbc-4ed8-b0bd-878c87792cec');\n",
              "          const dataTable =\n",
              "            await google.colab.kernel.invokeFunction('convertToInteractive',\n",
              "                                                     [key], {});\n",
              "          if (!dataTable) return;\n",
              "\n",
              "          const docLinkHtml = 'Like what you see? Visit the ' +\n",
              "            '<a target=\"_blank\" href=https://colab.research.google.com/notebooks/data_table.ipynb>data table notebook</a>'\n",
              "            + ' to learn more about interactive tables.';\n",
              "          element.innerHTML = '';\n",
              "          dataTable['output_type'] = 'display_data';\n",
              "          await google.colab.output.renderOutput(dataTable, element);\n",
              "          const docLink = document.createElement('div');\n",
              "          docLink.innerHTML = docLinkHtml;\n",
              "          element.appendChild(docLink);\n",
              "        }\n",
              "      </script>\n",
              "    </div>\n",
              "  </div>\n",
              "  "
            ]
          },
          "metadata": {},
          "execution_count": 22
        }
      ]
    },
    {
      "cell_type": "code",
      "source": [
        "X.shape"
      ],
      "metadata": {
        "colab": {
          "base_uri": "https://localhost:8080/"
        },
        "id": "UrEirQ3gk5hM",
        "outputId": "022e6d0a-ab45-426f-f2e2-04c5792433c5"
      },
      "execution_count": 23,
      "outputs": [
        {
          "output_type": "execute_result",
          "data": {
            "text/plain": [
              "(5526, 1)"
            ]
          },
          "metadata": {},
          "execution_count": 23
        }
      ]
    },
    {
      "cell_type": "markdown",
      "source": [
        "##### Data cleaning( Lemmatize and removing stopwords)"
      ],
      "metadata": {
        "id": "yg2J0MygmO4u"
      }
    },
    {
      "cell_type": "code",
      "source": [
        "# import dependensies\n",
        "import nltk\n",
        "from nltk.stem import WordNetLemmatizer\n",
        "import re\n",
        "from nltk.corpus import stopwords"
      ],
      "metadata": {
        "id": "bZ4zc1TLmp2k"
      },
      "execution_count": 24,
      "outputs": []
    },
    {
      "cell_type": "code",
      "source": [
        "from tqdm import tqdm\n",
        "lem=WordNetLemmatizer()\n",
        "#nltk.download('stopwords')\n",
        "#nltk.download('wordnet')\n",
        "\n",
        "stemm=nltk.PorterStemmer()\n",
        "lem=WordNetLemmatizer()\n",
        "corpus=[]\n",
        "\n",
        "for i in tqdm(range(0,len(df))):\n",
        "  review=re.sub('[^a-zA-Z]',' ',df['review'][i])\n",
        "  review.lower()\n",
        "  review.split()\n",
        "  review=[lem.lemmatize(word) for word in review if word not in set(stopwords.words('english'))]\n",
        "  review = ''.join(review)\n",
        "  corpus.append(review)"
      ],
      "metadata": {
        "colab": {
          "base_uri": "https://localhost:8080/"
        },
        "id": "bZT_Zt2nmmo0",
        "outputId": "52815f82-0ad0-4fc8-db08-1f9ae23367da"
      },
      "execution_count": 121,
      "outputs": [
        {
          "output_type": "stream",
          "name": "stderr",
          "text": [
            "100%|██████████| 5526/5526 [14:11<00:00,  6.49it/s]\n"
          ]
        }
      ]
    },
    {
      "cell_type": "markdown",
      "source": [
        "### Starting with ONE HOT and Padding apply on it"
      ],
      "metadata": {
        "id": "kpXdb7RPsTRE"
      }
    },
    {
      "cell_type": "code",
      "source": [
        "from tensorflow.keras.preprocessing.text import one_hot\n",
        "from tensorflow.keras.preprocessing.sequence import pad_sequences\n"
      ],
      "metadata": {
        "id": "jH5tAImIo4Uu"
      },
      "execution_count": 122,
      "outputs": []
    },
    {
      "cell_type": "code",
      "source": [
        "corpus[0]"
      ],
      "metadata": {
        "colab": {
          "base_uri": "https://localhost:8080/",
          "height": 174
        },
        "id": "skxw4iFgvW4Q",
        "outputId": "bab8bc35-23e4-4f7d-d37c-975949e32ddb"
      },
      "execution_count": 123,
      "outputs": [
        {
          "output_type": "execute_result",
          "data": {
            "text/plain": [
              "'One f he her revewer h enne h fer wchng ju   Oz epe u ll be hke  The re rgh   h  excl wh hppene wh e  br    br   The fr hng h ruck e bu Oz w  brul n unflnchng cene f vlence  whch e n rgh fr he wr GO  Tru e  h  n  hw fr he fn here r   Th hw pull n punche wh regr  rug  ex r vlence  I  hrcre  n he clc ue f he wr  br    br   I  clle OZ  h  he nckne gven  he Owl Mxu Secur Se Penenr  I fcue nl n Eerl C  n experenl ecn f he prn where ll he cell hve gl frn n fce nwr   prvc  n hgh n he gen  E C  he  n  Arn  Mul  gng  Ln  Chrn  Iln  Irh n re     cuffle  eh re  g elng n h greeen re never fr w  br    br   I wul  he n ppel f he hw  ue  he fc h  ge where her hw wuln  re  Frge pre pcure pne fr nre uence  frge chr  frge rnce   OZ en  e run  The fr epe I ever w ruck e   n  w urrel  I culn   I w re fr   bu  I wche re  I evelpe  e fr Oz  n g ccue  he hgh level f grphc vlence  N ju vlence  bu njuce  crke gur wh ll be l u fr  nckel  ne wh ll kll n rer n ge w wh   well nnere  le cl ne beng urne n prn bche ue  her lck f ree kll r prn experence  Wchng Oz  u  bece cfrble wh wh  uncfrble vewng    h f u cn ge n uch wh ur rker e '"
            ],
            "application/vnd.google.colaboratory.intrinsic+json": {
              "type": "string"
            }
          },
          "metadata": {},
          "execution_count": 123
        }
      ]
    },
    {
      "cell_type": "code",
      "source": [
        "\n",
        "#Applied one hot on text\n",
        "voc_size=500\n",
        "\n",
        "onehot_repr=[one_hot(word,voc_size) for word in corpus]\n",
        "\n"
      ],
      "metadata": {
        "id": "HCFF3CuRr5ea"
      },
      "execution_count": 124,
      "outputs": []
    },
    {
      "cell_type": "code",
      "source": [
        "#now we adding padding on it\n",
        "\n",
        "sent_length=1000\n",
        "\n",
        "embedded_doc=pad_sequences(onehot_repr,padding='pre',maxlen=sent_length)\n",
        "embedded_doc.shape"
      ],
      "metadata": {
        "colab": {
          "base_uri": "https://localhost:8080/"
        },
        "id": "hrCxLcREtXdG",
        "outputId": "5493855a-6310-4d81-8cb3-bc7c6636df6e"
      },
      "execution_count": 125,
      "outputs": [
        {
          "output_type": "execute_result",
          "data": {
            "text/plain": [
              "(5526, 1000)"
            ]
          },
          "metadata": {},
          "execution_count": 125
        }
      ]
    },
    {
      "cell_type": "code",
      "source": [
        "#making model\n",
        "from tensorflow.keras.models import Sequential\n",
        "from tensorflow.keras.layers import Embedding,LSTM,Dense,Dropout\n",
        "\n",
        "\n",
        "model=Sequential()\n",
        "model.add(Embedding(voc_size,40,input_length=sent_length))\n",
        "model.add(Dropout(0.3))\n",
        "model.add(LSTM(200))\n",
        "model.add(Dropout(0.3))\n",
        "model.add(Dense(1,activation='sigmoid'))"
      ],
      "metadata": {
        "id": "Q-AnXdGzunsV"
      },
      "execution_count": 126,
      "outputs": []
    },
    {
      "cell_type": "code",
      "source": [
        "#compile our model\n",
        "\n",
        "model.compile(loss=\"binary_crossentropy\",optimizer=\"adam\",metrics=[\"accuracy\"])\n",
        "model.summary()"
      ],
      "metadata": {
        "colab": {
          "base_uri": "https://localhost:8080/"
        },
        "id": "A_F78m9L3RG9",
        "outputId": "c760f530-0c6b-4af5-877a-39ca4464ff6d"
      },
      "execution_count": 127,
      "outputs": [
        {
          "output_type": "stream",
          "name": "stdout",
          "text": [
            "Model: \"sequential_4\"\n",
            "_________________________________________________________________\n",
            " Layer (type)                Output Shape              Param #   \n",
            "=================================================================\n",
            " embedding_4 (Embedding)     (None, 1000, 40)          20000     \n",
            "                                                                 \n",
            " dropout_2 (Dropout)         (None, 1000, 40)          0         \n",
            "                                                                 \n",
            " lstm_2 (LSTM)               (None, 200)               192800    \n",
            "                                                                 \n",
            " dropout_3 (Dropout)         (None, 200)               0         \n",
            "                                                                 \n",
            " dense_2 (Dense)             (None, 1)                 201       \n",
            "                                                                 \n",
            "=================================================================\n",
            "Total params: 213,001\n",
            "Trainable params: 213,001\n",
            "Non-trainable params: 0\n",
            "_________________________________________________________________\n"
          ]
        }
      ]
    },
    {
      "cell_type": "code",
      "source": [
        "import numpy as np\n",
        "\n",
        "X=np.array(embedded_doc)\n",
        "y=np.array(y)"
      ],
      "metadata": {
        "id": "P9HBybfr4wxT"
      },
      "execution_count": 128,
      "outputs": []
    },
    {
      "cell_type": "code",
      "source": [
        "X.shape"
      ],
      "metadata": {
        "colab": {
          "base_uri": "https://localhost:8080/"
        },
        "id": "f8v6UX6O6zdL",
        "outputId": "ed855530-cd1c-4f63-a762-9412685730da"
      },
      "execution_count": 129,
      "outputs": [
        {
          "output_type": "execute_result",
          "data": {
            "text/plain": [
              "(5526, 1000)"
            ]
          },
          "metadata": {},
          "execution_count": 129
        }
      ]
    },
    {
      "cell_type": "code",
      "source": [
        "from sklearn.model_selection import train_test_split\n",
        "\n",
        "\n",
        "X_train,X_test,y_train,y_test=train_test_split(X,y,test_size=0.33,random_state=42)"
      ],
      "metadata": {
        "id": "owWsV3Po4_N4"
      },
      "execution_count": 130,
      "outputs": []
    },
    {
      "cell_type": "code",
      "source": [
        "X_train.shape"
      ],
      "metadata": {
        "colab": {
          "base_uri": "https://localhost:8080/"
        },
        "id": "axkhPOY96mLF",
        "outputId": "1f8c64cd-bc40-4516-fe9b-28b75e71681f"
      },
      "execution_count": 131,
      "outputs": [
        {
          "output_type": "execute_result",
          "data": {
            "text/plain": [
              "(3702, 1000)"
            ]
          },
          "metadata": {},
          "execution_count": 131
        }
      ]
    },
    {
      "cell_type": "code",
      "source": [
        "import tensorflow\n",
        "ear_stop=tensorflow.keras.callbacks.EarlyStopping(patience=20,verbose=1)"
      ],
      "metadata": {
        "id": "sSDh-C-271Q-"
      },
      "execution_count": 132,
      "outputs": []
    },
    {
      "cell_type": "code",
      "source": [
        "model.fit(X_train,y_train,validation_data=(X_test,y_test),epochs=50,batch_size=64)"
      ],
      "metadata": {
        "colab": {
          "base_uri": "https://localhost:8080/"
        },
        "id": "n3KEWp1z5bHC",
        "outputId": "68763400-797e-40fa-b243-6597b245f071"
      },
      "execution_count": 134,
      "outputs": [
        {
          "output_type": "stream",
          "name": "stdout",
          "text": [
            "Epoch 1/50\n",
            "58/58 [==============================] - 4s 76ms/step - loss: 0.6742 - accuracy: 0.5832 - val_loss: 0.6802 - val_accuracy: 0.5625\n",
            "Epoch 2/50\n",
            "58/58 [==============================] - 5s 86ms/step - loss: 0.6474 - accuracy: 0.6297 - val_loss: 0.6667 - val_accuracy: 0.5833\n",
            "Epoch 3/50\n",
            "58/58 [==============================] - 4s 76ms/step - loss: 0.6071 - accuracy: 0.6715 - val_loss: 0.6289 - val_accuracy: 0.6464\n",
            "Epoch 4/50\n",
            "58/58 [==============================] - 5s 86ms/step - loss: 0.5605 - accuracy: 0.7199 - val_loss: 0.6060 - val_accuracy: 0.6743\n",
            "Epoch 5/50\n",
            "58/58 [==============================] - 4s 74ms/step - loss: 0.5382 - accuracy: 0.7361 - val_loss: 0.6184 - val_accuracy: 0.6820\n",
            "Epoch 6/50\n",
            "58/58 [==============================] - 5s 84ms/step - loss: 0.5135 - accuracy: 0.7547 - val_loss: 0.6055 - val_accuracy: 0.6793\n",
            "Epoch 7/50\n",
            "58/58 [==============================] - 5s 84ms/step - loss: 0.4961 - accuracy: 0.7609 - val_loss: 0.5850 - val_accuracy: 0.7039\n",
            "Epoch 8/50\n",
            "58/58 [==============================] - 4s 73ms/step - loss: 0.4610 - accuracy: 0.7861 - val_loss: 0.5876 - val_accuracy: 0.7133\n",
            "Epoch 9/50\n",
            "58/58 [==============================] - 4s 73ms/step - loss: 0.5086 - accuracy: 0.7553 - val_loss: 0.6242 - val_accuracy: 0.6875\n",
            "Epoch 10/50\n",
            "58/58 [==============================] - 5s 86ms/step - loss: 0.4377 - accuracy: 0.7979 - val_loss: 0.6282 - val_accuracy: 0.7067\n",
            "Epoch 11/50\n",
            "58/58 [==============================] - 5s 84ms/step - loss: 0.4354 - accuracy: 0.8009 - val_loss: 0.6647 - val_accuracy: 0.7007\n",
            "Epoch 12/50\n",
            "58/58 [==============================] - 4s 73ms/step - loss: 0.4186 - accuracy: 0.8155 - val_loss: 0.6884 - val_accuracy: 0.6634\n",
            "Epoch 13/50\n",
            "58/58 [==============================] - 5s 86ms/step - loss: 0.4001 - accuracy: 0.8206 - val_loss: 0.6745 - val_accuracy: 0.6584\n",
            "Epoch 14/50\n",
            "58/58 [==============================] - 4s 78ms/step - loss: 0.4027 - accuracy: 0.8217 - val_loss: 0.6758 - val_accuracy: 0.6689\n",
            "Epoch 15/50\n",
            "58/58 [==============================] - 6s 105ms/step - loss: 0.3879 - accuracy: 0.8320 - val_loss: 0.7354 - val_accuracy: 0.6968\n",
            "Epoch 16/50\n",
            "58/58 [==============================] - 5s 84ms/step - loss: 0.3990 - accuracy: 0.8206 - val_loss: 0.7365 - val_accuracy: 0.6234\n",
            "Epoch 17/50\n",
            "58/58 [==============================] - 5s 92ms/step - loss: 0.4002 - accuracy: 0.8158 - val_loss: 0.7490 - val_accuracy: 0.6530\n",
            "Epoch 18/50\n",
            "58/58 [==============================] - 5s 95ms/step - loss: 0.3739 - accuracy: 0.8320 - val_loss: 0.7436 - val_accuracy: 0.6425\n",
            "Epoch 19/50\n",
            "58/58 [==============================] - 6s 108ms/step - loss: 0.3793 - accuracy: 0.8314 - val_loss: 0.7609 - val_accuracy: 0.6853\n",
            "Epoch 20/50\n",
            "58/58 [==============================] - 4s 75ms/step - loss: 0.3708 - accuracy: 0.8385 - val_loss: 0.7669 - val_accuracy: 0.6327\n",
            "Epoch 21/50\n",
            "58/58 [==============================] - 4s 76ms/step - loss: 0.3488 - accuracy: 0.8482 - val_loss: 0.7976 - val_accuracy: 0.6782\n",
            "Epoch 22/50\n",
            "58/58 [==============================] - 5s 84ms/step - loss: 0.3300 - accuracy: 0.8617 - val_loss: 0.8063 - val_accuracy: 0.6623\n",
            "Epoch 23/50\n",
            "58/58 [==============================] - 4s 73ms/step - loss: 0.3342 - accuracy: 0.8531 - val_loss: 0.8009 - val_accuracy: 0.6628\n",
            "Epoch 24/50\n",
            "58/58 [==============================] - 5s 84ms/step - loss: 0.3233 - accuracy: 0.8639 - val_loss: 0.8434 - val_accuracy: 0.6617\n",
            "Epoch 25/50\n",
            "58/58 [==============================] - 4s 73ms/step - loss: 0.2987 - accuracy: 0.8728 - val_loss: 0.8616 - val_accuracy: 0.6480\n",
            "Epoch 26/50\n",
            "58/58 [==============================] - 4s 73ms/step - loss: 0.3554 - accuracy: 0.8425 - val_loss: 0.8768 - val_accuracy: 0.5899\n",
            "Epoch 27/50\n",
            "58/58 [==============================] - 5s 84ms/step - loss: 0.3406 - accuracy: 0.8487 - val_loss: 0.9094 - val_accuracy: 0.6678\n",
            "Epoch 28/50\n",
            "58/58 [==============================] - 5s 83ms/step - loss: 0.3000 - accuracy: 0.8747 - val_loss: 0.8587 - val_accuracy: 0.6584\n",
            "Epoch 29/50\n",
            "58/58 [==============================] - 4s 73ms/step - loss: 0.3057 - accuracy: 0.8679 - val_loss: 0.9032 - val_accuracy: 0.6217\n",
            "Epoch 30/50\n",
            "58/58 [==============================] - 4s 74ms/step - loss: 0.3088 - accuracy: 0.8698 - val_loss: 1.0068 - val_accuracy: 0.6239\n",
            "Epoch 31/50\n",
            "58/58 [==============================] - 4s 73ms/step - loss: 0.3151 - accuracy: 0.8695 - val_loss: 0.9063 - val_accuracy: 0.6009\n",
            "Epoch 32/50\n",
            "58/58 [==============================] - 4s 73ms/step - loss: 0.3459 - accuracy: 0.8425 - val_loss: 0.8370 - val_accuracy: 0.5938\n",
            "Epoch 33/50\n",
            "58/58 [==============================] - 4s 74ms/step - loss: 0.3269 - accuracy: 0.8506 - val_loss: 0.9479 - val_accuracy: 0.6327\n",
            "Epoch 34/50\n",
            "58/58 [==============================] - 4s 73ms/step - loss: 0.2822 - accuracy: 0.8736 - val_loss: 0.9995 - val_accuracy: 0.6469\n",
            "Epoch 35/50\n",
            "58/58 [==============================] - 4s 73ms/step - loss: 0.2804 - accuracy: 0.8865 - val_loss: 1.0206 - val_accuracy: 0.6365\n",
            "Epoch 36/50\n",
            "58/58 [==============================] - 4s 74ms/step - loss: 0.2841 - accuracy: 0.8836 - val_loss: 0.9881 - val_accuracy: 0.6464\n",
            "Epoch 37/50\n",
            "58/58 [==============================] - 5s 83ms/step - loss: 0.2459 - accuracy: 0.8995 - val_loss: 1.0433 - val_accuracy: 0.6480\n",
            "Epoch 38/50\n",
            "58/58 [==============================] - 5s 84ms/step - loss: 0.2451 - accuracy: 0.8998 - val_loss: 1.1332 - val_accuracy: 0.6491\n",
            "Epoch 39/50\n",
            "58/58 [==============================] - 5s 84ms/step - loss: 0.2475 - accuracy: 0.8998 - val_loss: 1.1137 - val_accuracy: 0.6387\n",
            "Epoch 40/50\n",
            "58/58 [==============================] - 4s 73ms/step - loss: 0.2437 - accuracy: 0.9022 - val_loss: 1.1799 - val_accuracy: 0.6217\n",
            "Epoch 41/50\n",
            "58/58 [==============================] - 4s 73ms/step - loss: 0.2703 - accuracy: 0.8830 - val_loss: 1.1240 - val_accuracy: 0.6343\n",
            "Epoch 42/50\n",
            "58/58 [==============================] - 5s 84ms/step - loss: 0.2424 - accuracy: 0.8984 - val_loss: 1.0973 - val_accuracy: 0.6519\n",
            "Epoch 43/50\n",
            "58/58 [==============================] - 5s 83ms/step - loss: 0.2202 - accuracy: 0.9125 - val_loss: 1.1235 - val_accuracy: 0.6447\n",
            "Epoch 44/50\n",
            "58/58 [==============================] - 4s 77ms/step - loss: 0.2146 - accuracy: 0.9144 - val_loss: 1.1641 - val_accuracy: 0.6420\n",
            "Epoch 45/50\n",
            "58/58 [==============================] - 4s 74ms/step - loss: 0.2002 - accuracy: 0.9209 - val_loss: 1.2016 - val_accuracy: 0.6562\n",
            "Epoch 46/50\n",
            "58/58 [==============================] - 4s 73ms/step - loss: 0.2126 - accuracy: 0.9117 - val_loss: 1.2478 - val_accuracy: 0.6327\n",
            "Epoch 47/50\n",
            "58/58 [==============================] - 4s 73ms/step - loss: 0.2087 - accuracy: 0.9165 - val_loss: 1.2143 - val_accuracy: 0.6223\n",
            "Epoch 48/50\n",
            "58/58 [==============================] - 5s 89ms/step - loss: 0.2573 - accuracy: 0.8906 - val_loss: 1.1835 - val_accuracy: 0.6305\n",
            "Epoch 49/50\n",
            "58/58 [==============================] - 4s 73ms/step - loss: 0.2005 - accuracy: 0.9171 - val_loss: 1.2069 - val_accuracy: 0.6343\n",
            "Epoch 50/50\n",
            "58/58 [==============================] - 4s 73ms/step - loss: 0.2031 - accuracy: 0.9192 - val_loss: 1.2896 - val_accuracy: 0.6414\n"
          ]
        },
        {
          "output_type": "execute_result",
          "data": {
            "text/plain": [
              "<keras.callbacks.History at 0x7f060da35520>"
            ]
          },
          "metadata": {},
          "execution_count": 134
        }
      ]
    },
    {
      "cell_type": "code",
      "source": [
        "from sklearn.metrics import classification_report,accuracy_score\n",
        "\n",
        "y_pred=model.predict(X_test)\n",
        "y_pred=np.where(y_pred>0.6,1,0)\n",
        "\n",
        "print(\"accuracy we got is\",accuracy_score(y_test,y_pred))\n",
        "\n",
        "print(classification_report(y_test,y_pred))"
      ],
      "metadata": {
        "colab": {
          "base_uri": "https://localhost:8080/"
        },
        "id": "E4cDn-1bGGY6",
        "outputId": "188695ab-2313-4c55-e051-0cb86d70ede2"
      },
      "execution_count": 135,
      "outputs": [
        {
          "output_type": "stream",
          "name": "stdout",
          "text": [
            "57/57 [==============================] - 1s 19ms/step\n",
            "accuracy we got is 0.6447368421052632\n",
            "              precision    recall  f1-score   support\n",
            "\n",
            "           0       0.63      0.73      0.68       929\n",
            "           1       0.66      0.56      0.61       895\n",
            "\n",
            "    accuracy                           0.64      1824\n",
            "   macro avg       0.65      0.64      0.64      1824\n",
            "weighted avg       0.65      0.64      0.64      1824\n",
            "\n"
          ]
        }
      ]
    },
    {
      "cell_type": "code",
      "source": [
        "\n"
      ],
      "metadata": {
        "id": "3Ir6QqY_H7Li"
      },
      "execution_count": 140,
      "outputs": []
    },
    {
      "cell_type": "code",
      "source": [],
      "metadata": {
        "id": "_EaYczYDI-3b"
      },
      "execution_count": null,
      "outputs": []
    }
  ]
}